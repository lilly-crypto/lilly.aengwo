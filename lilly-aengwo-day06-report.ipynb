{
 "cells": [
  {
   "cell_type": "code",
   "execution_count": 10,
   "id": "rubber-appendix",
   "metadata": {},
   "outputs": [
    {
     "name": "stdout",
     "output_type": "stream",
     "text": [
      "Enter the value of n:2\n",
      "0\n",
      "3\n",
      "1\n",
      "3\n"
     ]
    }
   ],
   "source": [
    "#question 1\n",
    "n=int(input('Enter the value of n:'))\n",
    "s=0\n",
    "for i in range (n):\n",
    "    print(i)\n",
    "    if i % 2==0:\n",
    "         s+=(i+3)\n",
    "\n",
    "    print(s)"
   ]
  },
  {
   "cell_type": "code",
   "execution_count": 18,
   "id": "clinical-hollywood",
   "metadata": {},
   "outputs": [
    {
     "name": "stdout",
     "output_type": "stream",
     "text": [
      "Enter the value of n:2\n",
      "0\n",
      "1\n"
     ]
    }
   ],
   "source": [
    "b=int(input('Enter the value of n:'))\n",
    "a=0\n",
    "for i in range(n):\n",
    "    print(i)\n",
    "    if i % 2==0:\n",
    "        a* i+3"
   ]
  },
  {
   "cell_type": "code",
   "execution_count": null,
   "id": "genuine-validation",
   "metadata": {},
   "outputs": [],
   "source": [
    "#b\n",
    "num = int(input(\"Enter the day number (0 to 6): \"))\n",
    "days = [\"Monday\", \"Tuesday\", \"Wednesday\", \"Thursday\", \"Friday\", \"Saturday\", \"Sunday\"]\n",
    "\n",
    "if 0 <= day_num <= 4:\n",
    "    print(f\"Working day: {days[num]}\")\n",
    "elif num in [5, 6]:\n",
    "    print(\"Weekend\")\n",
    "else:\n",
    "    print(\"Invalid input\")"
   ]
  },
  {
   "cell_type": "code",
   "execution_count": null,
   "id": "affiliated-proportion",
   "metadata": {},
   "outputs": [],
   "source": [
    "#3\n",
    "month = int(input(\"Enter month number (0 to 11): \"))\n",
    "\n",
    "if month == 1:\n",
    "    print(\"28 days\")\n",
    "elif month in [3, 5, 8, 10]:\n",
    "    print(\"30 days\")\n",
    "else:\n",
    "    print(\"31 days\")"
   ]
  },
  {
   "cell_type": "code",
   "execution_count": null,
   "id": "valuable-denver",
   "metadata": {},
   "outputs": [],
   "source": [
    "#4\n",
    "for i in range(3):\n",
    "    print(\"LILLY\")\n",
    "\n",
    "\n",
    "i = 0\n",
    "while i < 3:\n",
    "    print(\"LILLY\")\n",
    "    i += 1"
   ]
  },
  {
   "cell_type": "code",
   "execution_count": null,
   "id": "atomic-slovakia",
   "metadata": {},
   "outputs": [],
   "source": [
    "#5\n",
    "a0 = int(input(\"Enter the first value (a0): \"))\n",
    "a1 = int(input(\"Enter the second value (a1): \"))\n",
    "\n",
    "fibonacci = [a0, a1]\n",
    "for i in range(13):\n",
    "    fibonacci.append(fibonacci[-1] + fibonacci[-2])\n",
    "\n",
    "print(f\"The first 15 terms of the Fibonacci sequence: {fibonacci}\")\n"
   ]
  },
  {
   "cell_type": "code",
   "execution_count": 28,
   "id": "elect-article",
   "metadata": {},
   "outputs": [
    {
     "name": "stdout",
     "output_type": "stream",
     "text": [
      "Enter x0: 3\n",
      "Enter x1: 6\n",
      "The first 30 terms of the sequence: [3, 6, 12.0, 24.0, 48.0, 96.0, 192.0, 384.0, 768.0, 1536.0, 3072.0, 6144.0, 12288.0, 24576.0, 49152.0, 98304.0, 196608.0, 393216.0, 786432.0, 1572864.0, 3145728.0, 6291456.0, 12582912.0, 25165824.0, 50331648.0, 100663296.0, 201326592.0, 402653184.0, 805306368.0, 1610612736.0]\n"
     ]
    }
   ],
   "source": [
    "#6\n",
    "x0 = int(input(\"Enter x0: \"))\n",
    "x1 = int(input(\"Enter x1: \"))\n",
    "\n",
    "sequence = [x0, x1]\n",
    "for _ in range(28):\n",
    "    x_next = (sequence[-1] + 6 * sequence[-2]) / 2\n",
    "    sequence.append(x_next)\n",
    "\n",
    "print(f\"The first 30 terms of the sequence: {sequence}\")\n"
   ]
  },
  {
   "cell_type": "code",
   "execution_count": 29,
   "id": "normal-profit",
   "metadata": {},
   "outputs": [
    {
     "name": "stdout",
     "output_type": "stream",
     "text": [
      "Enter a year: 2000\n",
      "Leap year: True\n",
      "Enter a year: 2015\n",
      "False\n"
     ]
    }
   ],
   "source": [
    "#7\n",
    "year = int(input(\"Enter a year: \"))\n",
    "is_leap = (year % 4 == 0 and year % 100 != 0) or (year % 400 == 0)\n",
    "print(f\"Leap year: {is_leap}\")\n",
    "\n",
    "year = int(input(\"Enter a year: \"))\n",
    "print((year % 4 == 0) and ((year % 100 != 0) or (year % 400 == 0)))\n"
   ]
  },
  {
   "cell_type": "code",
   "execution_count": 30,
   "id": "spectacular-grocery",
   "metadata": {},
   "outputs": [
    {
     "name": "stdout",
     "output_type": "stream",
     "text": [
      "Enter a natural number n: 4\n",
      "Sum of squares (for loop): 30\n",
      "Sum of squares (while loop): 30\n"
     ]
    }
   ],
   "source": [
    "#8\n",
    "n = int(input(\"Enter a natural number n: \"))\n",
    "\n",
    "sum_squares = sum(i**2 for i in range(1, n+1))\n",
    "print(f\"Sum of squares (for loop): {sum_squares}\")\n",
    "\n",
    "sum_squares_while = 0\n",
    "i = 1\n",
    "while i <= n:\n",
    "    sum_squares_while += i**2\n",
    "    i += 1\n",
    "print(f\"Sum of squares (while loop): {sum_squares_while}\")\n"
   ]
  },
  {
   "cell_type": "code",
   "execution_count": 31,
   "id": "welsh-marriage",
   "metadata": {},
   "outputs": [
    {
     "name": "stdout",
     "output_type": "stream",
     "text": [
      "Enter a natural number: 8\n",
      "Divisors of 8: 1 2 4 8 \n",
      "Enter an integer: 7\n",
      "Prime factors: [7]\n"
     ]
    }
   ],
   "source": [
    "#9\n",
    "num = int(input(\"Enter a natural number: \"))\n",
    "\n",
    "print(f\"Divisors of {num}: \", end=\"\")\n",
    "for i in range(1, num + 1):\n",
    "    if num % i == 0:\n",
    "        print(i, end=\" \")\n",
    "print()\n",
    "\n",
    "num = int(input(\"Enter an integer: \"))\n",
    "i = 2\n",
    "factors = []\n",
    "while i * i <= num:\n",
    "    if num % i:\n",
    "        i += 1\n",
    "    else:\n",
    "        num //= i\n",
    "        factors.append(i)\n",
    "if num > 1:\n",
    "    factors.append(num)\n",
    "\n",
    "print(f\"Prime factors: {factors}\")\n"
   ]
  },
  {
   "cell_type": "code",
   "execution_count": 32,
   "id": "baking-german",
   "metadata": {},
   "outputs": [
    {
     "name": "stdout",
     "output_type": "stream",
     "text": [
      "Enter a number between 0 and 9: 7\n",
      "Enter the maximum value N: 9\n",
      "7 x 1 = 7\n",
      "7 x 2 = 14\n",
      "7 x 3 = 21\n",
      "7 x 4 = 28\n",
      "7 x 5 = 35\n",
      "7 x 6 = 42\n",
      "7 x 7 = 49\n",
      "7 x 8 = 56\n",
      "7 x 9 = 63\n"
     ]
    }
   ],
   "source": [
    "#10\n",
    "x = int(input(\"Enter a number between 0 and 9: \"))\n",
    "N = int(input(\"Enter the maximum value N: \"))\n",
    "\n",
    "for i in range(1, N + 1):\n",
    "    print(f\"{x} x {i} = {x * i}\")\n"
   ]
  },
  {
   "cell_type": "code",
   "execution_count": 33,
   "id": "electric-technique",
   "metadata": {},
   "outputs": [
    {
     "name": "stdout",
     "output_type": "stream",
     "text": [
      "Multiples of 3, 7, or 11 between 0 and 40:\n",
      "0 3 6 7 9 11 12 14 15 18 21 22 24 27 28 30 33 35 36 39 \n"
     ]
    }
   ],
   "source": [
    "#11\n",
    "print(\"Multiples of 3, 7, or 11 between 0 and 40:\")\n",
    "for i in range(41):\n",
    "    if i % 3 == 0 or i % 7 == 0 or i % 11 == 0:\n",
    "        print(i, end=\" \")\n",
    "print()\n"
   ]
  },
  {
   "cell_type": "code",
   "execution_count": 34,
   "id": "descending-property",
   "metadata": {},
   "outputs": [
    {
     "name": "stdout",
     "output_type": "stream",
     "text": [
      "Multiples of 3, 7, or 11 between 0 and 40:\n",
      "0 3 6 7 9 11 12 14 15 18 21 22 24 27 28 30 33 35 36 39 \n"
     ]
    }
   ],
   "source": [
    "#12\n",
    "print(\"Multiples of 3, 7, or 11 between 0 and 40:\")\n",
    "for i in range(41):\n",
    "    if i % 3 == 0 or i % 7 == 0 or i % 11 == 0:\n",
    "        print(i, end=\" \")\n",
    "print()\n"
   ]
  },
  {
   "cell_type": "code",
   "execution_count": 35,
   "id": "outer-soundtrack",
   "metadata": {},
   "outputs": [
    {
     "name": "stdout",
     "output_type": "stream",
     "text": [
      "Enter a float value: 6.5\n",
      "Floor of 6.5: 6\n"
     ]
    }
   ],
   "source": [
    "#13\n",
    "x = float(input(\"Enter a float value: \"))\n",
    "floor_x = int(x) if x >= 0 else int(x) - 1\n",
    "print(f\"Floor of {x}: {floor_x}\")\n"
   ]
  },
  {
   "cell_type": "code",
   "execution_count": null,
   "id": "eastern-paris",
   "metadata": {},
   "outputs": [],
   "source": [
    "#14\n",
    "\n",
    "while True:\n",
    "    x, y = map(float, input(\"Enter coordinates (x y): \").split())\n",
    "    if x == 0 and y == 0:\n",
    "        print(\"Origin\")\n",
    "    elif x == 0:\n",
    "        print(\"On Y-axis\")\n",
    "    elif y == 0:\n",
    "        print(\"On X-axis\")\n",
    "    elif x > 0 and y > 0:\n",
    "        print(\"1st Quadrant\")\n",
    "    elif x < 0 < y:\n",
    "        print(\"2nd Quadrant\")\n",
    "    elif x < 0 and y < 0:\n",
    "        print(\"3rd Quadrant\")\n",
    "    else:\n",
    "        print(\"4th Quadrant\")\n",
    "\n",
    "    cont = input(\"Do you want to continue? (yes/no): \")\n",
    "    if cont.lower() != \"yes\":\n",
    "        break"
   ]
  },
  {
   "cell_type": "code",
   "execution_count": null,
   "id": "unsigned-procurement",
   "metadata": {},
   "outputs": [
    {
     "name": "stdout",
     "output_type": "stream",
     "text": [
      "Enter an integer between 0 and 9: 3\n",
      "Enter an integer between 0 and 255: 5\n",
      "Multiples of 3 up to 5: 0 3 \n",
      "Do you want to continue? (yes/no): YES\n",
      "Enter an integer between 0 and 9: 6\n",
      "Enter an integer between 0 and 255: 100\n",
      "Multiples of 6 up to 100: 0 6 12 18 24 30 36 42 48 54 60 66 72 78 84 90 96 \n",
      "Do you want to continue? (yes/no): YES\n",
      "Enter an integer between 0 and 9: 7\n",
      "Enter an integer between 0 and 255: 7\n",
      "Multiples of 7 up to 7: 0 7 \n"
     ]
    }
   ],
   "source": [
    "#15\n",
    "while True:\n",
    "    x = int(input(\"Enter an integer between 0 and 9: \"))\n",
    "    if 0 <= x <= 9:\n",
    "        max_val = int(input(\"Enter an integer between 0 and 255: \"))\n",
    "        if 0 <= max_val <= 255:\n",
    "            print(f\"Multiples of {x} up to {max_val}: \", end=\"\")\n",
    "            for i in range(max_val + 1):\n",
    "                if i % x == 0:\n",
    "                    print(i, end=\" \")\n",
    "            print()\n",
    "        else:\n",
    "            continue\n",
    "    else:\n",
    "        continue\n",
    "\n",
    "    cont = input(\"Do you want to continue? (yes/no): \")\n",
    "    if cont.lower() != \"yes\":\n",
    "        break"
   ]
  }
 ],
 "metadata": {
  "kernelspec": {
   "display_name": "Python 3",
   "language": "python",
   "name": "python3"
  },
  "language_info": {
   "codemirror_mode": {
    "name": "ipython",
    "version": 3
   },
   "file_extension": ".py",
   "mimetype": "text/x-python",
   "name": "python",
   "nbconvert_exporter": "python",
   "pygments_lexer": "ipython3",
   "version": "3.9.2"
  }
 },
 "nbformat": 4,
 "nbformat_minor": 5
}
