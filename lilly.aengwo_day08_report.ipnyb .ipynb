{
 "cells": [
  {
   "cell_type": "code",
   "execution_count": 1,
   "metadata": {},
   "outputs": [
    {
     "name": "stdout",
     "output_type": "stream",
     "text": [
      "20\n"
     ]
    }
   ],
   "source": [
    "#1. Create a function `find_max()` that accepts two numeric inputs and returns the greater value. Avoid using the built-in `max()` function.\n",
    "def find_max(a, b):\n",
    "    if a > b:\n",
    "        return a\n",
    "    else:\n",
    "        return b\n",
    "\n",
    "\n",
    "result = find_max(10, 20)\n",
    "print(result)  # Output: 20\n"
   ]
  },
  {
   "cell_type": "code",
   "execution_count": 2,
   "metadata": {},
   "outputs": [
    {
     "name": "stdout",
     "output_type": "stream",
     "text": [
      "The maximum of the three numbers is: 12\n"
     ]
    }
   ],
   "source": [
    "#2. Develop a function `find_max_of_three()` to find the maximum among three given numbers.\n",
    "def find_max_of_three(a, b, c):\n",
    "    return max(a, b, c)\n",
    "\n",
    "result = find_max_of_three(5, 12, 9)\n",
    "print(f\"The maximum of the three numbers is: {result}\")\n"
   ]
  },
  {
   "cell_type": "code",
   "execution_count": 3,
   "metadata": {},
   "outputs": [
    {
     "name": "stdout",
     "output_type": "stream",
     "text": [
      "4\n",
      "5\n"
     ]
    }
   ],
   "source": [
    "#3. Write a function to manually calculate the length of a given list or string without using `len()`.\n",
    "def manual_length(iterable):\n",
    "    count = 0\n",
    "    for _ in iterable:\n",
    "        count += 1\n",
    "    return count\n",
    "\n",
    "\n",
    "print(manual_length([1, 2, 3, 4])) \n",
    "print(manual_length(\"Hello\"))      \n"
   ]
  },
  {
   "cell_type": "code",
   "execution_count": 5,
   "metadata": {},
   "outputs": [
    {
     "name": "stdout",
     "output_type": "stream",
     "text": [
      "True\n",
      "False\n",
      "True\n"
     ]
    }
   ],
   "source": [
    "#4. Implement a function that checks if a given character is a vowel (a, e, i, o, u).\n",
    "def is_vowel(char):\n",
    "    vowels = \"aeiouAEIOU\"\n",
    "    return char in vowels\n",
    "\n",
    "print(is_vowel('a'))  # Output: True\n",
    "print(is_vowel('b'))  # Output: False\n",
    "print(is_vowel('E'))  # Output: True\n"
   ]
  },
  {
   "cell_type": "code",
   "execution_count": 6,
   "metadata": {},
   "outputs": [
    {
     "name": "stdout",
     "output_type": "stream",
     "text": [
      "hohelollolo\n"
     ]
    }
   ],
   "source": [
    "#5. Write a function `encode()` that converts a string into \"rövarspråket\" ([robber's language](https://en.wikipedia.org/wiki/R%C3%B6varspr%C3%A5ket)) by doubling consonants and placing \"o\" in between, e.g., \"hello\" -> \"hohelollolo\".\n",
    "def encode(text):\n",
    "    consonants = \"bcdfghjklmnpqrstvwxyzBCDFGHJKLMNPQRSTVWXYZ\"\n",
    "    encoded_text = \"\"\n",
    "    \n",
    "    for char in text:\n",
    "        if char in consonants:\n",
    "            encoded_text += char + \"o\" + char\n",
    "        else:\n",
    "            encoded_text += char\n",
    "            \n",
    "    return encoded_text\n",
    "\n",
    "print(encode(\"hello\"))  # Output: hohelollolo\n"
   ]
  },
  {
   "cell_type": "code",
   "execution_count": 7,
   "metadata": {},
   "outputs": [
    {
     "name": "stdout",
     "output_type": "stream",
     "text": [
      "Sum of elements: 10\n",
      "Product of elements: 24\n"
     ]
    }
   ],
   "source": [
    "#6. Create `sum_elements()` and `product_elements()` functions to sum and multiply all elements in a list, respectively.\n",
    "def sum_elements(lst):\n",
    "    return sum(lst)\n",
    "\n",
    "def product_elements(lst):\n",
    "    product = 1\n",
    "    for num in lst:\n",
    "        product *= num\n",
    "    return product\n",
    "\n",
    "numbers = [1, 2, 3, 4]\n",
    "\n",
    "sum_result = sum_elements(numbers)\n",
    "print(\"Sum of elements:\", sum_result)\n",
    "\n",
    "product_result = product_elements(numbers)\n",
    "print(\"Product of elements:\", product_result)\n"
   ]
  },
  {
   "cell_type": "code",
   "execution_count": 8,
   "metadata": {},
   "outputs": [
    {
     "name": "stdout",
     "output_type": "stream",
     "text": [
      "olleh\n"
     ]
    }
   ],
   "source": [
    "#7. Define a function `reverse_string()` to reverse the characters in a given string.\n",
    "\n",
    "def reverse_string(s):\n",
    "    return s[::-1]\n",
    "\n",
    "input_string = \"hello\"\n",
    "reversed_string = reverse_string(input_string)\n",
    "print(reversed_string)  # Output: \"olleh\"\n",
    "4. Implement a function that checks if a given character is a vowel (a, e, i, o, u). in python\n",
    "\n",
    "\n"
   ]
  },
  {
   "cell_type": "code",
   "execution_count": 9,
   "metadata": {},
   "outputs": [
    {
     "name": "stdout",
     "output_type": "stream",
     "text": [
      "True\n",
      "False\n"
     ]
    }
   ],
   "source": [
    "#8. Implement `check_palindrome()` to verify if a string reads the same forwards and backwards, i.e. is a [palindrome](https://en.wikipedia.org/wiki/Palindrome).\n",
    "def check_palindrome(s: str) -> bool:\n",
    "    normalized_str = ''.join(char.lower() for char in s if char.isalnum())\n",
    "    \n",
    "    return normalized_str == normalized_str[::-1]\n",
    "\n",
    "print(check_palindrome(\"A man, a plan, a canal, Panama!\"))  # True\n",
    "print(check_palindrome(\"Not a palindrome\"))                  # False\n"
   ]
  },
  {
   "cell_type": "code",
   "execution_count": 11,
   "metadata": {},
   "outputs": [
    {
     "name": "stdout",
     "output_type": "stream",
     "text": [
      "True\n",
      "False\n"
     ]
    }
   ],
   "source": [
    "#9. Develop a function `check_membership()` to determine if a value exists within a list.\n",
    "def check_membership(value, my_list):\n",
    "   \n",
    "    return value in my_list\n",
    "\n",
    "my_list = [1, 2, 3, 4, 5]\n",
    "print(check_membership(3, my_list))  # Output: True\n",
    "print(check_membership(6, my_list))  # Output: False\n"
   ]
  },
  {
   "cell_type": "code",
   "execution_count": 12,
   "metadata": {},
   "outputs": [
    {
     "name": "stdout",
     "output_type": "stream",
     "text": [
      "True\n",
      "False\n"
     ]
    }
   ],
   "source": [
    "#10. Write `check_overlap()` to identify if two lists share any elements.\n",
    "def check_overlap(list1, list2):\n",
    "\n",
    "    return bool(set(list1) & set(list2))\n",
    "\n",
    "list_a = [1, 2, 3, 4]\n",
    "list_b = [4, 5, 6]\n",
    "list_c = [7, 8, 9]\n",
    "\n",
    "print(check_overlap(list_a, list_b))  # Output: True\n",
    "print(check_overlap(list_a, list_c))  # Output: False\n"
   ]
  },
  {
   "cell_type": "code",
   "execution_count": 13,
   "metadata": {},
   "outputs": [
    {
     "name": "stdout",
     "output_type": "stream",
     "text": [
      "AAAAA\n"
     ]
    }
   ],
   "source": [
    "#11. Implement `repeat_char()` that generates a string with a specified character repeated `n` times.\n",
    "def repeat_char(character, n):\n",
    "    \"\"\"Generate a string with the specified character repeated n times.\"\"\"\n",
    "    return character * n\n",
    "\n",
    "result = repeat_char('A', 5)\n",
    "print(result)  # Output: 'AAAAA'\n"
   ]
  },
  {
   "cell_type": "code",
   "execution_count": 15,
   "metadata": {},
   "outputs": [
    {
     "name": "stdout",
     "output_type": "stream",
     "text": [
      "***\n",
      "*****\n",
      "**\n",
      "********\n",
      "****\n"
     ]
    }
   ],
   "source": [
    "#12. Create a function `print_histogram()` that takes a list of integers and prints a corresponding histogram.\n",
    "def print_histogram(values):\n",
    "    for value in values:\n",
    "        \n",
    "        print('*' * value)\n",
    "\n",
    "data = [3, 5, 2, 8, 4]\n",
    "print_histogram(data)\n"
   ]
  },
  {
   "cell_type": "code",
   "execution_count": 20,
   "metadata": {},
   "outputs": [
    {
     "name": "stdout",
     "output_type": "stream",
     "text": [
      "The largest number in the list is: 9\n"
     ]
    }
   ],
   "source": [
    "#13. Write `find_max_in_list()` to identify the largest number in a list of arbitrary length.\n",
    "\n",
    "def find_max_in_list(numbers):\n",
    "    if not numbers:  \n",
    "        return None \n",
    "\n",
    "    max_value = numbers[0]  \n",
    "    for number in numbers: \n",
    "        if number > max_value:  ger\n",
    "            \n",
    "    return max_value  \n",
    "\n",
    "example_list = [3, 1, 4, 1, 5, 9, 2, 6, 5]\n",
    "largest_number = find_max_in_list(example_list)\n",
    "print(f\"The largest number in the list is: {largest_number}\")\n",
    " "
   ]
  },
  {
   "cell_type": "code",
   "execution_count": 21,
   "metadata": {},
   "outputs": [
    {
     "name": "stdout",
     "output_type": "stream",
     "text": [
      "{'apple': 5, 'banana': 6, 'cherry': 6, 'date': 4}\n"
     ]
    }
   ],
   "source": [
    "#14. Create a program that maps each word in a list to its length.\n",
    "def map_words_to_lengths(word_list):\n",
    "  \n",
    "    word_length_map = {word: len(word) for word in word_list}\n",
    "    return word_length_map\n",
    "\n",
    "\n",
    "words = [\"apple\", \"banana\", \"cherry\", \"date\"]\n",
    "length_map = map_words_to_lengths(words)\n",
    "\n",
    "print(length_map)\n"
   ]
  },
  {
   "cell_type": "code",
   "execution_count": 22,
   "metadata": {},
   "outputs": [
    {
     "name": "stdout",
     "output_type": "stream",
     "text": [
      "The longest word is: elderberry\n"
     ]
    }
   ],
   "source": [
    "#15. Implement `longest_word()` to find the longest word in a list.\n",
    "def longest_word(words):\n",
    "    if not words: \n",
    "        return None\n",
    "    \n",
    "    longest = words[0]\n",
    "    \n",
    "    for word in words:\n",
    "    \n",
    "        if len(word) > len(longest):\n",
    "            longest = word\n",
    "            \n",
    "    return longest\n",
    "\n",
    "word_list = [\"apple\", \"banana\", \"cherry\", \"date\", \"elderberry\"]\n",
    "result = longest_word(word_list)\n",
    "print(\"The longest word is:\", result)\n"
   ]
  },
  {
   "cell_type": "code",
   "execution_count": 24,
   "metadata": {},
   "outputs": [
    {
     "name": "stdout",
     "output_type": "stream",
     "text": [
      "['banana', 'watermelon']\n"
     ]
    }
   ],
   "source": [
    "#16. Develop `filter_words()` to return words longer than a specified length from a list.\n",
    "def filter_words(words, length):\n",
    "   \n",
    "    return [word for word in words if len(word) > length]\n",
    "\n",
    "word_list = [\"apple\", \"banana\", \"kiwi\", \"watermelon\", \"grape\"]\n",
    "filtered = filter_words(word_list, 5)\n",
    "print(filtered)  # Output: ['banana', 'watermelon']\n"
   ]
  },
  {
   "cell_type": "code",
   "execution_count": 25,
   "metadata": {},
   "outputs": [
    {
     "name": "stdout",
     "output_type": "stream",
     "text": [
      "\"A man, a plan, a canal, Panama!\" is a palindrome: True\n",
      "\"Was it a car or a cat I saw?\" is a palindrome: True\n",
      "\"No 'x' in Nixon\" is a palindrome: True\n",
      "\"Not a palindrome\" is a palindrome: False\n",
      "\"Able was I ere I saw Elba\" is a palindrome: True\n"
     ]
    }
   ],
   "source": [
    "#17. Enhance the palindrome recognizer to handle phrases, ignoring spaces, punctuation, and case.\n",
    "import re\n",
    "\n",
    "def is_palindrome(phrase):\n",
    "    cleaned_phrase = re.sub(r'[^a-zA-Z0-9]', '', phrase).lower()\n",
    "    \n",
    "    return cleaned_phrase == cleaned_phrase[::-1]\n",
    "\n",
    "test_phrases = [\n",
    "    \"A man, a plan, a canal, Panama!\",\n",
    "    \"Was it a car or a cat I saw?\",\n",
    "    \"No 'x' in Nixon\",\n",
    "    \"Not a palindrome\",\n",
    "    \"Able was I ere I saw Elba\"\n",
    "]\n",
    "\n",
    "for phrase in test_phrases:\n",
    "    print(f'\"{phrase}\" is a palindrome: {is_palindrome(phrase)}')\n"
   ]
  },
  {
   "cell_type": "code",
   "execution_count": 26,
   "metadata": {},
   "outputs": [
    {
     "name": "stdout",
     "output_type": "stream",
     "text": [
      "True\n"
     ]
    }
   ],
   "source": [
    "#18. Implement a function that checks if a given sentence is a [pangram](https://en.wikipedia.org/wiki/Pangram).\n",
    "import string\n",
    "\n",
    "def is_pangram(sentence):\n",
    "    sentence = sentence.lower()\n",
    "    alphabet_set = set(string.ascii_lowercase)\n",
    "    sentence_set = set(sentence)\n",
    "    return alphabet_set <= sentence_set\n",
    "test_sentence = \"The quick brown fox jumps over a lazy dog.\"\n",
    "print(is_pangram(test_sentence))  # Output: True\n"
   ]
  },
  {
   "cell_type": "code",
   "execution_count": 27,
   "metadata": {},
   "outputs": [
    {
     "name": "stdout",
     "output_type": "stream",
     "text": [
      "99 bottles of beer on the wall, 99 bottles of beer.\n",
      "Take one down, pass it around, 98 bottles of beer on the wall.\n",
      "\n",
      "98 bottles of beer on the wall, 98 bottles of beer.\n",
      "Take one down, pass it around, 97 bottles of beer on the wall.\n",
      "\n",
      "97 bottles of beer on the wall, 97 bottles of beer.\n",
      "Take one down, pass it around, 96 bottles of beer on the wall.\n",
      "\n",
      "96 bottles of beer on the wall, 96 bottles of beer.\n",
      "Take one down, pass it around, 95 bottles of beer on the wall.\n",
      "\n",
      "95 bottles of beer on the wall, 95 bottles of beer.\n",
      "Take one down, pass it around, 94 bottles of beer on the wall.\n",
      "\n",
      "94 bottles of beer on the wall, 94 bottles of beer.\n",
      "Take one down, pass it around, 93 bottles of beer on the wall.\n",
      "\n",
      "93 bottles of beer on the wall, 93 bottles of beer.\n",
      "Take one down, pass it around, 92 bottles of beer on the wall.\n",
      "\n",
      "92 bottles of beer on the wall, 92 bottles of beer.\n",
      "Take one down, pass it around, 91 bottles of beer on the wall.\n",
      "\n",
      "91 bottles of beer on the wall, 91 bottles of beer.\n",
      "Take one down, pass it around, 90 bottles of beer on the wall.\n",
      "\n",
      "90 bottles of beer on the wall, 90 bottles of beer.\n",
      "Take one down, pass it around, 89 bottles of beer on the wall.\n",
      "\n",
      "89 bottles of beer on the wall, 89 bottles of beer.\n",
      "Take one down, pass it around, 88 bottles of beer on the wall.\n",
      "\n",
      "88 bottles of beer on the wall, 88 bottles of beer.\n",
      "Take one down, pass it around, 87 bottles of beer on the wall.\n",
      "\n",
      "87 bottles of beer on the wall, 87 bottles of beer.\n",
      "Take one down, pass it around, 86 bottles of beer on the wall.\n",
      "\n",
      "86 bottles of beer on the wall, 86 bottles of beer.\n",
      "Take one down, pass it around, 85 bottles of beer on the wall.\n",
      "\n",
      "85 bottles of beer on the wall, 85 bottles of beer.\n",
      "Take one down, pass it around, 84 bottles of beer on the wall.\n",
      "\n",
      "84 bottles of beer on the wall, 84 bottles of beer.\n",
      "Take one down, pass it around, 83 bottles of beer on the wall.\n",
      "\n",
      "83 bottles of beer on the wall, 83 bottles of beer.\n",
      "Take one down, pass it around, 82 bottles of beer on the wall.\n",
      "\n",
      "82 bottles of beer on the wall, 82 bottles of beer.\n",
      "Take one down, pass it around, 81 bottles of beer on the wall.\n",
      "\n",
      "81 bottles of beer on the wall, 81 bottles of beer.\n",
      "Take one down, pass it around, 80 bottles of beer on the wall.\n",
      "\n",
      "80 bottles of beer on the wall, 80 bottles of beer.\n",
      "Take one down, pass it around, 79 bottles of beer on the wall.\n",
      "\n",
      "79 bottles of beer on the wall, 79 bottles of beer.\n",
      "Take one down, pass it around, 78 bottles of beer on the wall.\n",
      "\n",
      "78 bottles of beer on the wall, 78 bottles of beer.\n",
      "Take one down, pass it around, 77 bottles of beer on the wall.\n",
      "\n",
      "77 bottles of beer on the wall, 77 bottles of beer.\n",
      "Take one down, pass it around, 76 bottles of beer on the wall.\n",
      "\n",
      "76 bottles of beer on the wall, 76 bottles of beer.\n",
      "Take one down, pass it around, 75 bottles of beer on the wall.\n",
      "\n",
      "75 bottles of beer on the wall, 75 bottles of beer.\n",
      "Take one down, pass it around, 74 bottles of beer on the wall.\n",
      "\n",
      "74 bottles of beer on the wall, 74 bottles of beer.\n",
      "Take one down, pass it around, 73 bottles of beer on the wall.\n",
      "\n",
      "73 bottles of beer on the wall, 73 bottles of beer.\n",
      "Take one down, pass it around, 72 bottles of beer on the wall.\n",
      "\n",
      "72 bottles of beer on the wall, 72 bottles of beer.\n",
      "Take one down, pass it around, 71 bottles of beer on the wall.\n",
      "\n",
      "71 bottles of beer on the wall, 71 bottles of beer.\n",
      "Take one down, pass it around, 70 bottles of beer on the wall.\n",
      "\n",
      "70 bottles of beer on the wall, 70 bottles of beer.\n",
      "Take one down, pass it around, 69 bottles of beer on the wall.\n",
      "\n",
      "69 bottles of beer on the wall, 69 bottles of beer.\n",
      "Take one down, pass it around, 68 bottles of beer on the wall.\n",
      "\n",
      "68 bottles of beer on the wall, 68 bottles of beer.\n",
      "Take one down, pass it around, 67 bottles of beer on the wall.\n",
      "\n",
      "67 bottles of beer on the wall, 67 bottles of beer.\n",
      "Take one down, pass it around, 66 bottles of beer on the wall.\n",
      "\n",
      "66 bottles of beer on the wall, 66 bottles of beer.\n",
      "Take one down, pass it around, 65 bottles of beer on the wall.\n",
      "\n",
      "65 bottles of beer on the wall, 65 bottles of beer.\n",
      "Take one down, pass it around, 64 bottles of beer on the wall.\n",
      "\n",
      "64 bottles of beer on the wall, 64 bottles of beer.\n",
      "Take one down, pass it around, 63 bottles of beer on the wall.\n",
      "\n",
      "63 bottles of beer on the wall, 63 bottles of beer.\n",
      "Take one down, pass it around, 62 bottles of beer on the wall.\n",
      "\n",
      "62 bottles of beer on the wall, 62 bottles of beer.\n",
      "Take one down, pass it around, 61 bottles of beer on the wall.\n",
      "\n",
      "61 bottles of beer on the wall, 61 bottles of beer.\n",
      "Take one down, pass it around, 60 bottles of beer on the wall.\n",
      "\n",
      "60 bottles of beer on the wall, 60 bottles of beer.\n",
      "Take one down, pass it around, 59 bottles of beer on the wall.\n",
      "\n",
      "59 bottles of beer on the wall, 59 bottles of beer.\n",
      "Take one down, pass it around, 58 bottles of beer on the wall.\n",
      "\n",
      "58 bottles of beer on the wall, 58 bottles of beer.\n",
      "Take one down, pass it around, 57 bottles of beer on the wall.\n",
      "\n",
      "57 bottles of beer on the wall, 57 bottles of beer.\n",
      "Take one down, pass it around, 56 bottles of beer on the wall.\n",
      "\n",
      "56 bottles of beer on the wall, 56 bottles of beer.\n",
      "Take one down, pass it around, 55 bottles of beer on the wall.\n",
      "\n",
      "55 bottles of beer on the wall, 55 bottles of beer.\n",
      "Take one down, pass it around, 54 bottles of beer on the wall.\n",
      "\n",
      "54 bottles of beer on the wall, 54 bottles of beer.\n",
      "Take one down, pass it around, 53 bottles of beer on the wall.\n",
      "\n",
      "53 bottles of beer on the wall, 53 bottles of beer.\n",
      "Take one down, pass it around, 52 bottles of beer on the wall.\n",
      "\n",
      "52 bottles of beer on the wall, 52 bottles of beer.\n",
      "Take one down, pass it around, 51 bottles of beer on the wall.\n",
      "\n",
      "51 bottles of beer on the wall, 51 bottles of beer.\n",
      "Take one down, pass it around, 50 bottles of beer on the wall.\n",
      "\n",
      "50 bottles of beer on the wall, 50 bottles of beer.\n",
      "Take one down, pass it around, 49 bottles of beer on the wall.\n",
      "\n",
      "49 bottles of beer on the wall, 49 bottles of beer.\n",
      "Take one down, pass it around, 48 bottles of beer on the wall.\n",
      "\n",
      "48 bottles of beer on the wall, 48 bottles of beer.\n",
      "Take one down, pass it around, 47 bottles of beer on the wall.\n",
      "\n",
      "47 bottles of beer on the wall, 47 bottles of beer.\n",
      "Take one down, pass it around, 46 bottles of beer on the wall.\n",
      "\n",
      "46 bottles of beer on the wall, 46 bottles of beer.\n",
      "Take one down, pass it around, 45 bottles of beer on the wall.\n",
      "\n",
      "45 bottles of beer on the wall, 45 bottles of beer.\n",
      "Take one down, pass it around, 44 bottles of beer on the wall.\n",
      "\n",
      "44 bottles of beer on the wall, 44 bottles of beer.\n",
      "Take one down, pass it around, 43 bottles of beer on the wall.\n",
      "\n",
      "43 bottles of beer on the wall, 43 bottles of beer.\n",
      "Take one down, pass it around, 42 bottles of beer on the wall.\n",
      "\n",
      "42 bottles of beer on the wall, 42 bottles of beer.\n",
      "Take one down, pass it around, 41 bottles of beer on the wall.\n",
      "\n",
      "41 bottles of beer on the wall, 41 bottles of beer.\n",
      "Take one down, pass it around, 40 bottles of beer on the wall.\n",
      "\n",
      "40 bottles of beer on the wall, 40 bottles of beer.\n",
      "Take one down, pass it around, 39 bottles of beer on the wall.\n",
      "\n",
      "39 bottles of beer on the wall, 39 bottles of beer.\n",
      "Take one down, pass it around, 38 bottles of beer on the wall.\n",
      "\n",
      "38 bottles of beer on the wall, 38 bottles of beer.\n",
      "Take one down, pass it around, 37 bottles of beer on the wall.\n",
      "\n",
      "37 bottles of beer on the wall, 37 bottles of beer.\n",
      "Take one down, pass it around, 36 bottles of beer on the wall.\n",
      "\n",
      "36 bottles of beer on the wall, 36 bottles of beer.\n",
      "Take one down, pass it around, 35 bottles of beer on the wall.\n",
      "\n",
      "35 bottles of beer on the wall, 35 bottles of beer.\n",
      "Take one down, pass it around, 34 bottles of beer on the wall.\n",
      "\n",
      "34 bottles of beer on the wall, 34 bottles of beer.\n",
      "Take one down, pass it around, 33 bottles of beer on the wall.\n",
      "\n",
      "33 bottles of beer on the wall, 33 bottles of beer.\n",
      "Take one down, pass it around, 32 bottles of beer on the wall.\n",
      "\n",
      "32 bottles of beer on the wall, 32 bottles of beer.\n",
      "Take one down, pass it around, 31 bottles of beer on the wall.\n",
      "\n",
      "31 bottles of beer on the wall, 31 bottles of beer.\n",
      "Take one down, pass it around, 30 bottles of beer on the wall.\n",
      "\n",
      "30 bottles of beer on the wall, 30 bottles of beer.\n",
      "Take one down, pass it around, 29 bottles of beer on the wall.\n",
      "\n",
      "29 bottles of beer on the wall, 29 bottles of beer.\n",
      "Take one down, pass it around, 28 bottles of beer on the wall.\n",
      "\n",
      "28 bottles of beer on the wall, 28 bottles of beer.\n",
      "Take one down, pass it around, 27 bottles of beer on the wall.\n",
      "\n",
      "27 bottles of beer on the wall, 27 bottles of beer.\n",
      "Take one down, pass it around, 26 bottles of beer on the wall.\n",
      "\n",
      "26 bottles of beer on the wall, 26 bottles of beer.\n",
      "Take one down, pass it around, 25 bottles of beer on the wall.\n",
      "\n",
      "25 bottles of beer on the wall, 25 bottles of beer.\n",
      "Take one down, pass it around, 24 bottles of beer on the wall.\n",
      "\n",
      "24 bottles of beer on the wall, 24 bottles of beer.\n",
      "Take one down, pass it around, 23 bottles of beer on the wall.\n",
      "\n",
      "23 bottles of beer on the wall, 23 bottles of beer.\n",
      "Take one down, pass it around, 22 bottles of beer on the wall.\n",
      "\n",
      "22 bottles of beer on the wall, 22 bottles of beer.\n",
      "Take one down, pass it around, 21 bottles of beer on the wall.\n",
      "\n",
      "21 bottles of beer on the wall, 21 bottles of beer.\n",
      "Take one down, pass it around, 20 bottles of beer on the wall.\n",
      "\n",
      "20 bottles of beer on the wall, 20 bottles of beer.\n",
      "Take one down, pass it around, 19 bottles of beer on the wall.\n",
      "\n",
      "19 bottles of beer on the wall, 19 bottles of beer.\n",
      "Take one down, pass it around, 18 bottles of beer on the wall.\n",
      "\n",
      "18 bottles of beer on the wall, 18 bottles of beer.\n",
      "Take one down, pass it around, 17 bottles of beer on the wall.\n",
      "\n",
      "17 bottles of beer on the wall, 17 bottles of beer.\n",
      "Take one down, pass it around, 16 bottles of beer on the wall.\n",
      "\n",
      "16 bottles of beer on the wall, 16 bottles of beer.\n",
      "Take one down, pass it around, 15 bottles of beer on the wall.\n",
      "\n",
      "15 bottles of beer on the wall, 15 bottles of beer.\n",
      "Take one down, pass it around, 14 bottles of beer on the wall.\n",
      "\n",
      "14 bottles of beer on the wall, 14 bottles of beer.\n",
      "Take one down, pass it around, 13 bottles of beer on the wall.\n",
      "\n",
      "13 bottles of beer on the wall, 13 bottles of beer.\n",
      "Take one down, pass it around, 12 bottles of beer on the wall.\n",
      "\n",
      "12 bottles of beer on the wall, 12 bottles of beer.\n",
      "Take one down, pass it around, 11 bottles of beer on the wall.\n",
      "\n",
      "11 bottles of beer on the wall, 11 bottles of beer.\n",
      "Take one down, pass it around, 10 bottles of beer on the wall.\n",
      "\n",
      "10 bottles of beer on the wall, 10 bottles of beer.\n",
      "Take one down, pass it around, 9 bottles of beer on the wall.\n",
      "\n",
      "9 bottles of beer on the wall, 9 bottles of beer.\n",
      "Take one down, pass it around, 8 bottles of beer on the wall.\n",
      "\n",
      "8 bottles of beer on the wall, 8 bottles of beer.\n",
      "Take one down, pass it around, 7 bottles of beer on the wall.\n",
      "\n",
      "7 bottles of beer on the wall, 7 bottles of beer.\n",
      "Take one down, pass it around, 6 bottles of beer on the wall.\n",
      "\n",
      "6 bottles of beer on the wall, 6 bottles of beer.\n",
      "Take one down, pass it around, 5 bottles of beer on the wall.\n",
      "\n",
      "5 bottles of beer on the wall, 5 bottles of beer.\n",
      "Take one down, pass it around, 4 bottles of beer on the wall.\n",
      "\n",
      "4 bottles of beer on the wall, 4 bottles of beer.\n",
      "Take one down, pass it around, 3 bottles of beer on the wall.\n",
      "\n",
      "3 bottles of beer on the wall, 3 bottles of beer.\n",
      "Take one down, pass it around, 2 bottles of beer on the wall.\n",
      "\n",
      "2 bottles of beer on the wall, 2 bottles of beer.\n",
      "Take one down, pass it around, 1 bottles of beer on the wall.\n",
      "\n",
      "1 bottle of beer on the wall, 1 bottle of beer.\n",
      "Take one down, pass it around, no more bottles of beer on the wall.\n",
      "\n",
      "No more bottles of beer on the wall, no more bottles of beer.\n",
      "Go to the store and buy some more, 99 bottles of beer on the wall.\n"
     ]
    }
   ],
   "source": [
    "#19. Write a function that generates verses for the \"99 Bottles of Beer\" song.\n",
    "\n",
    "def generate_bottles_song(starting_bottles=99):\n",
    "    verses = []\n",
    "    for bottles in range(starting_bottles, 0, -1):\n",
    "        if bottles > 1:\n",
    "            next_bottle = bottles - 1\n",
    "            verses.append(f\"{bottles} bottles of beer on the wall, {bottles} bottles of beer.\")\n",
    "            verses.append(f\"Take one down, pass it around, {next_bottle} bottles of beer on the wall.\\n\")\n",
    "        elif bottles == 1:\n",
    "            verses.append(f\"1 bottle of beer on the wall, 1 bottle of beer.\")\n",
    "            verses.append(f\"Take one down, pass it around, no more bottles of beer on the wall.\\n\")\n",
    "    \n",
    "    verses.append(\"No more bottles of beer on the wall, no more bottles of beer.\")\n",
    "    verses.append(\"Go to the store and buy some more, 99 bottles of beer on the wall.\")\n",
    "    \n",
    "    return \"\\n\".join(verses)\n",
    "\n",
    "print(generate_bottles_song())\n"
   ]
  },
  {
   "cell_type": "code",
   "execution_count": 29,
   "metadata": {},
   "outputs": [
    {
     "name": "stdout",
     "output_type": "stream",
     "text": [
      "The French translation of 'hello' is 'bonjour'\n"
     ]
    }
   ],
   "source": [
    "#20. Create a translation function using a small dictionary to translate English words into French/.\n",
    "\n",
    "def translate_to_french(word):\n",
    "    # Define a small dictionary of English-French word pairs\n",
    "    dictionary = {\"hello\": \"bonjour\", \"goodbye\": \"au revoir\",\"please\": \"s'il vous plaît\",\"thank you\": \"merci\", \"yes\": \"oui\",\"no\": \"non\",\"sorry\": \"désolé\",\n",
    "        \"morning\": \"matin\",\"night\": \"nuit\", \"food\": \"nourriture\"}\n",
    "    \n",
    "    return dictionary.get(word.lower(), \"Translation not found\")\n",
    "\n",
    "\n",
    "word_to_translate = \"hello\"\n",
    "print(f\"The French translation of '{word_to_translate}' is '{translate_to_french(word_to_translate)}'\")\n"
   ]
  },
  {
   "cell_type": "code",
   "execution_count": 30,
   "metadata": {},
   "outputs": [
    {
     "name": "stdout",
     "output_type": "stream",
     "text": [
      "{'h': 1, 'e': 1, 'l': 3, 'o': 2, ' ': 1, 'w': 1, 'r': 1, 'd': 1}\n"
     ]
    }
   ],
   "source": [
    "#21. Develop `char_frequency()` to build a dictionary of character frequencies in a string.\n",
    "def char_frequency(s):\n",
    "    freq_dict = {}\n",
    "    for char in s:\n",
    "        if char in freq_dict:\n",
    "            freq_dict[char] += 1\n",
    "        else:\n",
    "            freq_dict[char] = 1\n",
    "    return freq_dict\n",
    "string = \"hello world\"\n",
    "print(char_frequency(string))\n",
    "\n"
   ]
  },
  {
   "cell_type": "code",
   "execution_count": 31,
   "metadata": {},
   "outputs": [
    {
     "name": "stdout",
     "output_type": "stream",
     "text": [
      "Encoded: Uryyb, Jbeyq!\n",
      "Decoded: Hello, World!\n"
     ]
    }
   ],
   "source": [
    "#22. Implement a [Caesar cipher encoder/decoder using a shift of 13 (ROT-13)](https://en.wikipedia.org/wiki/ROT13).\n",
    "def rot13(text):\n",
    "    result = []\n",
    "\n",
    "    for char in text:\n",
    "        if 'a' <= char <= 'z':\n",
    "            result.append(chr((ord(char) - ord('a') + 13) % 26 + ord('a')))\n",
    "        elif 'A' <= char <= 'Z':\n",
    "            result.append(chr((ord(char) - ord('A') + 13) % 26 + ord('A')))\n",
    "        else:\n",
    "            result.append(char)\n",
    "\n",
    "    return ''.join(result)\n",
    "\n",
    "text = \"Hello, World!\"\n",
    "encoded = rot13(text)\n",
    "print(f\"Encoded: {encoded}\")\n",
    "\n",
    "decoded = rot13(encoded)\n",
    "print(f\"Decoded: {decoded}\")\n"
   ]
  },
  {
   "cell_type": "code",
   "execution_count": 32,
   "metadata": {},
   "outputs": [
    {
     "name": "stdout",
     "output_type": "stream",
     "text": [
      "This is a test. This should be fixed.\n"
     ]
    }
   ],
   "source": [
    "#23. Create `fix_spaces()` to correct multiple spaces and missing spaces after periods in a text.\n",
    "import re\n",
    "\n",
    "def fix_spaces(text):\n",
    "  \n",
    "    text = re.sub(r'\\s+', ' ', text)\n",
    "\n",
    "    text = re.sub(r'(?<=[a-zA-Z0-9])\\.(?=[a-zA-Z0-9])', '. ', text)\n",
    "\n",
    "    return text\n",
    "\n",
    "input_text = \"This  is  a  test.This should  be fixed.\"\n",
    "corrected_text = fix_spaces(input_text)\n",
    "print(corrected_text)\n"
   ]
  },
  {
   "cell_type": "code",
   "execution_count": 34,
   "metadata": {},
   "outputs": [
    {
     "name": "stdout",
     "output_type": "stream",
     "text": [
      "plays\n",
      "flies\n",
      "goes\n",
      "washes\n"
     ]
    }
   ],
   "source": [
    "#24. Write `convert_to_third_person()` to transform verbs into their third person singular form.\n",
    "def convert_to_third_person(verb):\n",
    "    irregulars = {\n",
    "        \"be\": \"is\",\n",
    "        \"have\": \"has\",\n",
    "        \"do\": \"does\",\n",
    "        \"go\": \"goes\",\n",
    "        \"fly\": \"flies\",\n",
    "    }\n",
    "\n",
    "    if verb in irregulars:\n",
    "        return irregulars[verb]\n",
    "    if verb.endswith('y') and verb[-2] not in \"aeiou\":\n",
    "        return verb[:-1] + \"ies\"\n",
    "    elif verb.endswith(('o', 'ch', 's', 'sh', 'x', 'z')):\n",
    "        return verb + \"es\"\n",
    "    else:\n",
    "        return verb + \"s\"\n",
    "print(convert_to_third_person(\"play\"))  # plays\n",
    "print(convert_to_third_person(\"fly\"))   # flies\n",
    "print(convert_to_third_person(\"go\"))    # goes\n",
    "print(convert_to_third_person(\"wash\"))  # washes\n"
   ]
  },
  {
   "cell_type": "code",
   "execution_count": 35,
   "metadata": {},
   "outputs": [
    {
     "name": "stdout",
     "output_type": "stream",
     "text": [
      "lying\n",
      "seeing\n",
      "moving\n",
      "running\n",
      "sitting\n"
     ]
    }
   ],
   "source": [
    "#25. Implement `make_ing_form()` to convert verbs into their present participle form using heuristic rules.\n",
    "import re\n",
    "\n",
    "def make_ing_form(verb):\n",
    "    if re.match(r\".*ie$\", verb):\n",
    "        return verb[:-2] + 'ying'\n",
    "    elif re.match(r\".*e$\", verb) and not re.match(r\".*ee$\", verb):\n",
    "        return verb[:-1] + 'ing'\n",
    "    elif re.match(r\".*[^aeiou][aeiou][^aeiouyw]$\", verb) and len(verb) > 2:\n",
    "        return verb + verb[-1] + 'ing'\n",
    "    else:\n",
    "        return verb + 'ing'\n",
    "\n",
    "# Test cases\n",
    "print(make_ing_form(\"lie\"))    \n",
    "print(make_ing_form(\"see\"))      \n",
    "print(make_ing_form(\"move\"))   \n",
    "print(make_ing_form(\"run\"))      \n",
    "print(make_ing_form(\"sit\"))     \n"
   ]
  },
  {
   "cell_type": "code",
   "execution_count": null,
   "metadata": {},
   "outputs": [],
   "source": []
  }
 ],
 "metadata": {
  "colab": {
   "provenance": []
  },
  "kernelspec": {
   "display_name": "Python 3",
   "language": "python",
   "name": "python3"
  },
  "language_info": {
   "codemirror_mode": {
    "name": "ipython",
    "version": 3
   },
   "file_extension": ".py",
   "mimetype": "text/x-python",
   "name": "python",
   "nbconvert_exporter": "python",
   "pygments_lexer": "ipython3",
   "version": "3.9.2"
  }
 },
 "nbformat": 4,
 "nbformat_minor": 1
}
